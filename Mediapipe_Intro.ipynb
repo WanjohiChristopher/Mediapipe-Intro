{
  "nbformat": 4,
  "nbformat_minor": 0,
  "metadata": {
    "kernelspec": {
      "display_name": "Python 3.8.5 64-bit ('base': conda)",
      "language": "python",
      "name": "python385jvsc74a57bd02a797d9e3f8019c2ae59779c796dc3bc804b2a4dfcc8404d1c836fe010d50029"
    },
    "language_info": {
      "codemirror_mode": {
        "name": "ipython",
        "version": 3
      },
      "file_extension": ".py",
      "mimetype": "text/x-python",
      "name": "python",
      "nbconvert_exporter": "python",
      "pygments_lexer": "ipython3",
      "version": "3.8.5"
    },
    "colab": {
      "name": "Mediapipe Intro.ipynb",
      "provenance": [],
      "include_colab_link": true
    }
  },
  "cells": [
    {
      "cell_type": "markdown",
      "metadata": {
        "id": "view-in-github",
        "colab_type": "text"
      },
      "source": [
        "<a href=\"https://colab.research.google.com/github/WanjohiChristopher/Mediapipe-Intro/blob/main/Mediapipe_Intro.ipynb\" target=\"_parent\"><img src=\"https://colab.research.google.com/assets/colab-badge.svg\" alt=\"Open In Colab\"/></a>"
      ]
    },
    {
      "cell_type": "code",
      "metadata": {
        "id": "U9YVcdFSqQ_K"
      },
      "source": [
        "import numpy as np\n",
        "import mediapipe as mp\n",
        "import cv2"
      ],
      "execution_count": null,
      "outputs": []
    },
    {
      "cell_type": "code",
      "metadata": {
        "id": "vwVC_4H5qQ_S"
      },
      "source": [
        "\n",
        "mp_drawing = mp.solutions.drawing_utils # Drawing helpers\n",
        "mp_holistic = mp.solutions.holistic # Mediapipe Solutions"
      ],
      "execution_count": null,
      "outputs": []
    },
    {
      "cell_type": "markdown",
      "metadata": {
        "id": "3qZdMoRAqQ_V"
      },
      "source": [
        "#  Drawing Keypoints.Show the data points collection\n",
        "<img src=\"https://i.imgur.com/AzKNp7A.png\">"
      ]
    },
    {
      "cell_type": "markdown",
      "metadata": {
        "id": "moBflu-rqQ_b"
      },
      "source": [
        "\n",
        "## Hand tracking Points\n",
        "<img src=\"https://i.imgur.com/8bForKY.png\">"
      ]
    },
    {
      "cell_type": "code",
      "metadata": {
        "id": "tC_i1QjYqQ_d"
      },
      "source": [
        "cap = cv2.VideoCapture(0)\n",
        "# Initiate holistic model\n",
        "with mp_holistic.Holistic(min_detection_confidence=0.5, min_tracking_confidence=0.5) as holistic:\n",
        "    \n",
        "    while cap.isOpened():\n",
        "        ret, frame = cap.read()\n",
        "        \n",
        "        # Recolor Feed\n",
        "        image = cv2.cvtColor(frame, cv2.COLOR_BGR2RGB)\n",
        "        image.flags.writeable = False        \n",
        "        width=1200\n",
        "        height=700\n",
        "        dimensions=(width,height)\n",
        "        \n",
        "        resize=cv2.resize(image,dimensions,interpolation=cv2.INTER_NEAREST)\n",
        "        # Make Detections\n",
        "        results = holistic.process(resize)\n",
        "        # print(results.face_landmarks)\n",
        "        \n",
        "        # face_landmarks, pose_landmarks, left_hand_landmarks, right_hand_landmarks\n",
        "        \n",
        "        # Recolor image back to BGR for rendering\n",
        "        image.flags.writeable = True   \n",
        "        image = cv2.cvtColor(resize, cv2.COLOR_RGB2BGR)\n",
        "        \n",
        "        \n",
        "        # 1. Draw face landmarks\n",
        "        mp_drawing.draw_landmarks(resize, results.face_landmarks, mp_holistic.FACEMESH_TESSELATION, \n",
        "                                 mp_drawing.DrawingSpec(color=(80,110,10), thickness=1, circle_radius=1),\n",
        "                                 mp_drawing.DrawingSpec(color=(80,256,121), thickness=1, circle_radius=1)\n",
        "                                 )\n",
        "        \n",
        "        # 2. Right hand\n",
        "        mp_drawing.draw_landmarks(resize, results.right_hand_landmarks, mp_holistic.HAND_CONNECTIONS, \n",
        "                                 mp_drawing.DrawingSpec(color=(80,22,10), thickness=2, circle_radius=4),\n",
        "                                 mp_drawing.DrawingSpec(color=(80,44,121), thickness=2, circle_radius=2)\n",
        "                                 )\n",
        "        # 3. Left Hand\n",
        "        mp_drawing.draw_landmarks(resize, results.left_hand_landmarks, mp_holistic.HAND_CONNECTIONS, \n",
        "                                 mp_drawing.DrawingSpec(color=(121,22,76), thickness=2, circle_radius=4),\n",
        "                                 mp_drawing.DrawingSpec(color=(121,44,250), thickness=2, circle_radius=2)\n",
        "                                 )\n",
        "\n",
        "        # 4. Pose Detections\n",
        "        mp_drawing.draw_landmarks(resize, results.pose_landmarks, mp_holistic.POSE_CONNECTIONS, \n",
        "                                 mp_drawing.DrawingSpec(color=(245,117,66), thickness=2, circle_radius=4),\n",
        "                                 mp_drawing.DrawingSpec(color=(245,66,230), thickness=2, circle_radius=2)\n",
        "                                 )\n",
        "                        \n",
        "        cv2.imshow('Raw Webcam Feed', resize)\n",
        "\n",
        "        if cv2.waitKey(10) & 0xFF == ord('q'):\n",
        "            break\n",
        "\n",
        "cap.release()\n",
        "cv2.destroyAllWindows()"
      ],
      "execution_count": null,
      "outputs": []
    },
    {
      "cell_type": "code",
      "metadata": {
        "id": "miAljDqUqQ_h"
      },
      "source": [
        "cap.release()\n",
        "cv2.destroyAllWindows()"
      ],
      "execution_count": null,
      "outputs": []
    },
    {
      "cell_type": "code",
      "metadata": {
        "id": "TfiyUDWLqQ_j"
      },
      "source": [
        "\n"
      ],
      "execution_count": null,
      "outputs": []
    },
    {
      "cell_type": "code",
      "metadata": {
        "id": "L0aBJRqeqQ_k"
      },
      "source": [
        ""
      ],
      "execution_count": null,
      "outputs": []
    }
  ]
}